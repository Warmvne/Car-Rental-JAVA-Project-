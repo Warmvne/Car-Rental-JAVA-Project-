{
  "nbformat": 4,
  "nbformat_minor": 0,
  "metadata": {
    "colab": {
      "provenance": [],
      "authorship_tag": "ABX9TyNvakq2a0FcOqVGJKhz2Oce",
      "include_colab_link": true
    },
    "kernelspec": {
      "name": "python3",
      "display_name": "Python 3"
    },
    "language_info": {
      "name": "python"
    }
  },
  "cells": [
    {
      "cell_type": "markdown",
      "metadata": {
        "id": "view-in-github",
        "colab_type": "text"
      },
      "source": [
        "<a href=\"https://colab.research.google.com/github/Warmvne/Car-Rental-JAVA-Project-/blob/main/MachineLearningCOURS1.ipynb\" target=\"_parent\"><img src=\"https://colab.research.google.com/assets/colab-badge.svg\" alt=\"Open In Colab\"/></a>"
      ]
    },
    {
      "cell_type": "code",
      "source": [
        "import numpy as np\n",
        "import pandas as pd\n",
        "import matplotlib.pyplot as plt\n",
        "\n",
        "data = pd.read_csv('ex1data1.csv', header = 0, delimiter = ',')\n",
        "X=data.iloc[:,0]\n",
        "y=data.iloc[:,1]\n",
        "m=len(y)\n",
        "data.head()\n",
        "\n",
        "plt.scatter(X,y)\n",
        "plt.xlabel('Population of City in 10,000s')\n",
        "plt.ylabel('Profit in $10,000s')\n",
        "#plt.ylim(0,25)\n",
        "plt.show()"
      ],
      "metadata": {
        "colab": {
          "base_uri": "https://localhost:8080/",
          "height": 449
        },
        "id": "5eFLd_TpNU95",
        "outputId": "54ee7ca8-ae19-4185-c57b-f1ebb31b8a85"
      },
      "execution_count": 29,
      "outputs": [
        {
          "output_type": "display_data",
          "data": {
            "text/plain": [
              "<Figure size 640x480 with 1 Axes>"
            ],
            "image/png": "[encoded data removed]"
          },
          "metadata": {}
        }
      ]
    },
    {
      "cell_type": "code",
      "source": [
        "X = X[:,np.newaxis]\n",
        "y = y[:,np.newaxis]\n",
        "theta = np.zeros([2,1])\n",
        "iterations = 1500\n",
        "alpha= 0.01\n",
        "ones= np.ones((m,1))\n",
        "X=np.hstack((ones,X))"
      ],
      "metadata": {
        "colab": {
          "base_uri": "https://localhost:8080/"
        },
        "id": "7LCLLhatPxSZ",
        "outputId": "09d5a083-5b54-4866-d4e3-eb2e6888e0da"
      },
      "execution_count": 32,
      "outputs": [
        {
          "output_type": "stream",
          "name": "stderr",
          "text": [
            "<ipython-input-32-1023222343e4>:1: FutureWarning: Support for multi-dimensional indexing (e.g. `obj[:, None]`) is deprecated and will be removed in a future version.  Convert to a numpy array before indexing instead.\n",
            "  X = X[:,np.newaxis]\n",
            "<ipython-input-32-1023222343e4>:2: FutureWarning: Support for multi-dimensional indexing (e.g. `obj[:, None]`) is deprecated and will be removed in a future version.  Convert to a numpy array before indexing instead.\n",
            "  y = y[:,np.newaxis]\n"
          ]
        }
      ]
    },
    {
      "cell_type": "code",
      "source": [
        "def computeCost(X,y,theta):\n",
        "  temp=np.dot(X,theta)-y\n",
        "  return np.sum(np.power(temp,2))/(2*m)\n",
        "J = computeCost(X,y,theta)\n",
        "print(J)"
      ],
      "metadata": {
        "colab": {
          "base_uri": "https://localhost:8080/"
        },
        "id": "XLm-Tx3TQlYS",
        "outputId": "7ecc1782-7dbe-47dd-daf4-76e0a190997a"
      },
      "execution_count": 33,
      "outputs": [
        {
          "output_type": "stream",
          "name": "stdout",
          "text": [
            "32.072733877455676\n"
          ]
        }
      ]
    },
    {
      "cell_type": "code",
      "source": [
        "def gradientDescentMulti(X,y,theta,alpha,iterations):\n",
        "  #m = len(y)\n",
        "  for _ in range (iterations):\n",
        "    temp = np.dot(X,theta)-y\n",
        "    temp = np.dot(X.T,temp)\n",
        "    theta = theta - (alpha/m)*temp\n",
        "  return theta"
      ],
      "metadata": {
        "id": "WuOTppwjTLYG"
      },
      "execution_count": 36,
      "outputs": []
    },
    {
      "cell_type": "code",
      "source": [
        "theta = gradientDescentMulti(X,y,theta,alpha,iterations)\n",
        "print (theta)"
      ],
      "metadata": {
        "colab": {
          "base_uri": "https://localhost:8080/"
        },
        "id": "MwdAYS0vUm81",
        "outputId": "afb47101-3277-4030-fb64-70bc22e7a948"
      },
      "execution_count": 37,
      "outputs": [
        {
          "output_type": "stream",
          "name": "stdout",
          "text": [
            "[[-3.63029144]\n",
            " [ 1.16636235]]\n"
          ]
        }
      ]
    },
    {
      "cell_type": "code",
      "source": [
        "J = computeCost(X,y,theta)\n",
        "print(J)"
      ],
      "metadata": {
        "colab": {
          "base_uri": "https://localhost:8080/"
        },
        "id": "Ve9W5T1bU1fm",
        "outputId": "e0d22148-7b8e-41de-8791-2909f93e36ff"
      },
      "execution_count": 38,
      "outputs": [
        {
          "output_type": "stream",
          "name": "stdout",
          "text": [
            "4.483388256587726\n"
          ]
        }
      ]
    }
  ]
}